{
 "cells": [
  {
   "cell_type": "markdown",
   "id": "6f7cbd2a-123b-432c-934d-a7a0d1dd3ef2",
   "metadata": {},
   "source": [
    "# Data Science Final Project"
   ]
  },
  {
   "cell_type": "markdown",
   "id": "2de2ad07-8276-4eb0-bab0-5696e51f3963",
   "metadata": {},
   "source": [
    "## Introduction\n",
    "This notebook is created to demonstrate various aspects of data science including languages, libraries, tools, and basic arithmetic operations."
   ]
  },
  {
   "cell_type": "markdown",
   "id": "cd63c5be-494a-4eb8-b7b3-250d1bc25d04",
   "metadata": {},
   "source": [
    "## Data Science Languages\n",
    "- Python\n",
    "- R\n",
    "- SQL\n",
    "- Julia\n",
    "- Java\n"
   ]
  },
  {
   "cell_type": "markdown",
   "id": "65a05d61-491f-49e7-916a-d4ca5699de48",
   "metadata": {},
   "source": [
    "## Data Science Libraries\n",
    "- Pandas\n",
    "- NumPy\n",
    "- Matplotlib\n",
    "- Scikit-learn\n",
    "- TensorFlow\n"
   ]
  },
  {
   "cell_type": "markdown",
   "id": "3e4b6557-6307-40ae-9e36-4d4b721a0f9b",
   "metadata": {},
   "source": [
    "## Data Science Tools\n",
    "| Tool | Description |\n",
    "|------|-------------|\n",
    "| Jupyter | Interactive computing environment |\n",
    "| RStudio | Integrated development environment for R |\n",
    "| Apache Spark | Cluster-computing framework |\n"
   ]
  },
  {
   "cell_type": "markdown",
   "id": "8d18205e-4bd8-4960-92f5-536d5e0b2242",
   "metadata": {},
   "source": [
    "## Arithmetic Expression Examples\n",
    "Below are examples of basic arithmetic operations.\n"
   ]
  },
  {
   "cell_type": "code",
   "execution_count": 3,
   "id": "478aa5ae-1d59-49ff-8d90-df328a19c6ec",
   "metadata": {},
   "outputs": [
    {
     "name": "stdout",
     "output_type": "stream",
     "text": [
      "15\n",
      "8\n"
     ]
    }
   ],
   "source": [
    "# Multiplication and addition\n",
    "a = 5\n",
    "b = 3\n",
    "multiplication = a * b\n",
    "addition = a + b\n",
    "print(multiplication)\n",
    "print(addition)\n"
   ]
  },
  {
   "cell_type": "code",
   "execution_count": 4,
   "id": "bc3a5149-dab4-40b6-8fd4-a93409da84fc",
   "metadata": {},
   "outputs": [
    {
     "name": "stdout",
     "output_type": "stream",
     "text": [
      "2.5\n"
     ]
    }
   ],
   "source": [
    "# Convert minutes to hours\n",
    "minutes = 150\n",
    "hours = minutes / 60\n",
    "print(hours)\n"
   ]
  },
  {
   "cell_type": "markdown",
   "id": "fa1a77a4-6932-40cd-bede-b840b8ce6fb0",
   "metadata": {},
   "source": [
    "## Objectives\n",
    "- Understand the basic data science languages\n",
    "- Familiarize with popular data science libraries\n",
    "- Learn about common data science tools\n",
    "- Perform basic arithmetic operations in Python\n"
   ]
  },
  {
   "cell_type": "code",
   "execution_count": 7,
   "id": "f4582af0-eeea-4ee4-97e3-d90ea8b6ccc7",
   "metadata": {},
   "outputs": [
    {
     "name": "stdout",
     "output_type": "stream",
     "text": [
      "Seharish Fatima\n"
     ]
    }
   ],
   "source": [
    "## Author\n",
    "print(\"Seharish Fatima\")\n"
   ]
  },
  {
   "cell_type": "code",
   "execution_count": null,
   "id": "58488105-ae47-4b74-b746-3599ba3f76cc",
   "metadata": {},
   "outputs": [],
   "source": []
  }
 ],
 "metadata": {
  "kernelspec": {
   "display_name": "Python 3 (ipykernel)",
   "language": "python",
   "name": "python3"
  },
  "language_info": {
   "codemirror_mode": {
    "name": "ipython",
    "version": 3
   },
   "file_extension": ".py",
   "mimetype": "text/x-python",
   "name": "python",
   "nbconvert_exporter": "python",
   "pygments_lexer": "ipython3",
   "version": "3.12.2"
  }
 },
 "nbformat": 4,
 "nbformat_minor": 5
}
